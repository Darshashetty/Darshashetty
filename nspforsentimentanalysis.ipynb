{
  "nbformat": 4,
  "nbformat_minor": 0,
  "metadata": {
    "colab": {
      "provenance": [],
      "authorship_tag": "ABX9TyMD9MRnMLyLifBsaStrX6dY",
      "include_colab_link": true
    },
    "kernelspec": {
      "name": "python3",
      "display_name": "Python 3"
    },
    "language_info": {
      "name": "python"
    }
  },
  "cells": [
    {
      "cell_type": "markdown",
      "metadata": {
        "id": "view-in-github",
        "colab_type": "text"
      },
      "source": [
        "<a href=\"https://colab.research.google.com/github/Darshashetty/Darshashetty/blob/main/nspforsentimentanalysis.ipynb\" target=\"_parent\"><img src=\"https://colab.research.google.com/assets/colab-badge.svg\" alt=\"Open In Colab\"/></a>"
      ]
    },
    {
      "cell_type": "markdown",
      "source": [
        "# Natural Language Processing For Sentiment Analysis\n"
      ],
      "metadata": {
        "id": "l_vpDg7Oc-jq"
      }
    },
    {
      "cell_type": "markdown",
      "source": [
        "# Import Dataset"
      ],
      "metadata": {
        "id": "OUsgYy_vdZEy"
      }
    },
    {
      "cell_type": "code",
      "execution_count": 1,
      "metadata": {
        "colab": {
          "base_uri": "https://localhost:8080/"
        },
        "id": "N7F2jvsgXoUw",
        "outputId": "bf53f9ea-84aa-4989-9379-62176906ee32"
      },
      "outputs": [
        {
          "output_type": "stream",
          "name": "stdout",
          "text": [
            "                           Review  Sentiment\n",
            "0            I love this product!          1\n",
            "1          Worst experience ever.          0\n",
            "2         It was okay, not great.          0\n",
            "3  Amazing performance and speed!          1\n",
            "4           Totally disappointed.          0\n",
            "5      I am very happy with this.          1\n",
            "6     Bad quality and rude staff.          0\n",
            "7              This is fantastic!          1\n",
            "8            Not worth the money.          0\n",
            "9            Best thing I bought!          1\n"
          ]
        }
      ],
      "source": [
        "import pandas as pd\n",
        "\n",
        "data = {\n",
        "    'Review': [\n",
        "        'I love this product!',\n",
        "        'Worst experience ever.',\n",
        "        'It was okay, not great.',\n",
        "        'Amazing performance and speed!',\n",
        "        'Totally disappointed.',\n",
        "        'I am very happy with this.',\n",
        "        'Bad quality and rude staff.',\n",
        "        'This is fantastic!',\n",
        "        'Not worth the money.',\n",
        "        'Best thing I bought!'\n",
        "    ],\n",
        "    'Sentiment': [1, 0, 0, 1, 0, 1, 0, 1, 0, 1]  # 1 = Positive, 0 = Negative\n",
        "}\n",
        "\n",
        "df = pd.DataFrame(data)\n",
        "df.to_csv(\"Sentiment_Reviews_YBI.csv\", index=False)\n",
        "print(df)\n"
      ]
    },
    {
      "cell_type": "markdown",
      "source": [
        "# Import libraries"
      ],
      "metadata": {
        "id": "CDBLP1wxd9w6"
      }
    },
    {
      "cell_type": "code",
      "source": [
        "# Import libraries\n",
        "from sklearn.model_selection import train_test_split\n",
        "from sklearn.feature_extraction.text import CountVectorizer\n",
        "from sklearn.naive_bayes import MultinomialNB\n",
        "from sklearn.metrics import accuracy_score\n"
      ],
      "metadata": {
        "id": "0wniMfHwZUdX"
      },
      "execution_count": 2,
      "outputs": []
    },
    {
      "cell_type": "code",
      "source": [
        "# Prepare data\n",
        "X = df['Review']\n",
        "y = df['Sentiment']\n",
        "\n",
        "# Vectorize text\n",
        "cv = CountVectorizer()\n",
        "X_vec = cv.fit_transform(X)\n",
        "\n",
        "# Split and train\n",
        "X_train, X_test, y_train, y_test = train_test_split(X_vec, y, test_size=0.2, random_state=42)\n",
        "model = MultinomialNB()\n",
        "model.fit(X_train, y_train)\n",
        "\n",
        "# Evaluate\n",
        "y_pred = model.predict(X_test)\n",
        "print(\"Accuracy:\", accuracy_score(y_test, y_pred))\n"
      ],
      "metadata": {
        "colab": {
          "base_uri": "https://localhost:8080/"
        },
        "id": "b0qoYwQ-ZcXI",
        "outputId": "5388b957-0204-45d7-87cd-ace52a977ff7"
      },
      "execution_count": 3,
      "outputs": [
        {
          "output_type": "stream",
          "name": "stdout",
          "text": [
            "Accuracy: 0.5\n"
          ]
        }
      ]
    },
    {
      "cell_type": "code",
      "source": [
        "# Test on custom reviews\n",
        "sample_reviews = [\"Excellent work\", \"I hate this\", \"Not bad\", \"Very good quality\"]\n",
        "sample_vec = cv.transform(sample_reviews)\n",
        "predictions = model.predict(sample_vec)\n",
        "\n",
        "for review, sentiment in zip(sample_reviews, predictions):\n",
        "    result = \"Positive\" if sentiment == 1 else \"Negative\"\n",
        "    print(f\"Review: '{review}' → Sentiment: {result}\")\n"
      ],
      "metadata": {
        "colab": {
          "base_uri": "https://localhost:8080/"
        },
        "id": "48C3xlC-ZjPW",
        "outputId": "3aa70d5d-18a4-4cfb-fa5d-30d93b0da28c"
      },
      "execution_count": 4,
      "outputs": [
        {
          "output_type": "stream",
          "name": "stdout",
          "text": [
            "Review: 'Excellent work' → Sentiment: Positive\n",
            "Review: 'I hate this' → Sentiment: Positive\n",
            "Review: 'Not bad' → Sentiment: Negative\n",
            "Review: 'Very good quality' → Sentiment: Positive\n"
          ]
        }
      ]
    }
  ]
}